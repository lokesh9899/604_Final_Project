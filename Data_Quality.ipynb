{
 "cells": [
  {
   "cell_type": "code",
   "execution_count": 7,
   "metadata": {},
   "outputs": [
    {
     "name": "stdout",
     "output_type": "stream",
     "text": [
      "Data loaded successfully!\n"
     ]
    }
   ],
   "source": [
    "import pandas as pd\n",
    "\n",
    "\n",
    "def load_data(file_path):\n",
    "    \"\"\"\n",
    "    Loads data from an Excel file with enhanced error handling.\n",
    "\n",
    "    This function attempts to read an Excel file from the specified file path using a context manager to ensure proper\n",
    "    resource management. It handles common errors, including missing files and unexpected exceptions.\n",
    "\n",
    "    Parameters:\n",
    "    file_path (str): The path to the Excel file to be loaded.\n",
    "\n",
    "    Returns:\n",
    "    pandas.DataFrame or None: A DataFrame if the Excel file is successfully loaded. Returns None if an error occurs,\n",
    "    along with an appropriate error message.\n",
    "\n",
    "    Raises:\n",
    "    None: All exceptions are handled internally.\n",
    "    \"\"\"\n",
    "    try:\n",
    "        with open(file_path, 'rb') as file:\n",
    "            data = pd.read_excel(file)\n",
    "    except FileNotFoundError:\n",
    "        print(f\"Error: The file at {file_path} could not be found.\")\n",
    "        return None\n",
    "    except Exception as e:\n",
    "        print(f\"An unexpected error occurred: {e}\")\n",
    "        return None\n",
    "    return data\n",
    "\n",
    "file_path = \"E:\\\\train4.xlsx\"\n",
    "\n",
    "df = load_data(file_path)\n",
    "\n",
    "if df is not None:\n",
    "    print(\"Data loaded successfully!\")\n",
    "else:\n",
    "    print(\"Data could not be loaded.\")\n"
   ]
  },
  {
   "cell_type": "code",
   "execution_count": 9,
   "metadata": {},
   "outputs": [
    {
     "name": "stdout",
     "output_type": "stream",
     "text": [
      "Number of rows: 45211\n",
      "Number of columns: 18\n",
      "No missing values found.\n",
      "No duplicate rows found.\n",
      "Data types:\n",
      "Unnamed: 0         int64\n",
      "age                int64\n",
      "job               object\n",
      "marital           object\n",
      "education         object\n",
      "default_status    object\n",
      "balance            int64\n",
      "housing           object\n",
      "loan              object\n",
      "contact           object\n",
      "day                int64\n",
      "month             object\n",
      "duration           int64\n",
      "campaign           int64\n",
      "pdays              int64\n",
      "previous           int64\n",
      "poutcome          object\n",
      "y                 object\n",
      "dtype: object\n"
     ]
    }
   ],
   "source": [
    "def perform_data_quality_checks(df): # Data quality checks\n",
    "    \"\"\"\n",
    "    Performs data quality checks on the DataFrame.\n",
    "\n",
    "    Parameters:\n",
    "    df (pandas.DataFrame): The DataFrame to be checked.\n",
    "\n",
    "    Returns:\n",
    "    None: Prints the results of the data quality checks.\n",
    "    \"\"\"\n",
    "    num_rows, num_cols = df.shape\n",
    "    print(f\"Number of rows: {num_rows}\")\n",
    "    print(f\"Number of columns: {num_cols}\")\n",
    "    \n",
    "    # Checking for missing values\n",
    "    if df.isnull().sum().sum() == 0:\n",
    "        print(\"No missing values found.\")\n",
    "    else:\n",
    "        print(\"Missing values found:\")\n",
    "        print(df.isnull().sum())\n",
    "    \n",
    "    # Checking for duplicates\n",
    "    if df.duplicated().sum() == 0:\n",
    "        print(\"No duplicate rows found.\")\n",
    "    else:\n",
    "        print(\"Duplicate rows found.\")\n",
    "    \n",
    "    # Checking for data types\n",
    "    print(\"Data types:\")\n",
    "    print(df.dtypes)\n",
    "\n",
    "perform_data_quality_checks(df)\n"
   ]
  }
 ],
 "metadata": {
  "kernelspec": {
   "display_name": "Python 3",
   "language": "python",
   "name": "python3"
  },
  "language_info": {
   "codemirror_mode": {
    "name": "ipython",
    "version": 3
   },
   "file_extension": ".py",
   "mimetype": "text/x-python",
   "name": "python",
   "nbconvert_exporter": "python",
   "pygments_lexer": "ipython3",
   "version": "3.11.2"
  }
 },
 "nbformat": 4,
 "nbformat_minor": 2
}
