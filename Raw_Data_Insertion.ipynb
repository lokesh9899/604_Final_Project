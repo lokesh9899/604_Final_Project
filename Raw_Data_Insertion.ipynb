{
 "cells": [
  {
   "cell_type": "code",
   "execution_count": 10,
   "metadata": {},
   "outputs": [
    {
     "name": "stdout",
     "output_type": "stream",
     "text": [
      "Excel file read successfully!\n",
      "Data inserted successfully into 'Finance_data'!\n"
     ]
    }
   ],
   "source": [
    "import pandas as pd\n",
    "from sqlalchemy import create_engine\n",
    "\n",
    "# Specify the SQL Server connection parameters\n",
    "server_name = 'localhost'\n",
    "database_name = 'finance_info'\n",
    "\n",
    "# Create the connection string for SQL Server using Windows authentication\n",
    "connection_string = f'mssql+pyodbc://{server_name}/{database_name}?driver=ODBC+Driver+17+for+SQL+Server&trusted_connection=yes'\n",
    "\n",
    "# Create the SQLAlchemy engine\n",
    "engine = create_engine(connection_string)\n",
    "\n",
    "# Path to your Excel file\n",
    "excel_file_path = \"C:\\\\Users\\\\Charan kumar\\\\Downloads\\\\train4.xlsx\"\n",
    "\n",
    "try:\n",
    "    # Read Excel file into a pandas DataFrame\n",
    "    df = pd.read_excel(excel_file_path, engine='openpyxl')  \n",
    "    print(\"Excel file read successfully!\")\n",
    "\n",
    "    # Table name in SQL Server\n",
    "    table_name = 'Finance_data'  \n",
    "\n",
    "    # Write DataFrame to SQL Server table\n",
    "    df.to_sql(table_name, engine, if_exists='replace', index=False) \n",
    "    print(f\"Data inserted successfully into '{table_name}'!\")\n",
    "except Exception as e:\n",
    "    print(f\"An unexpected error occurred: {e}\")\n"
   ]
  },
  {
   "cell_type": "code",
   "execution_count": 6,
   "metadata": {},
   "outputs": [
    {
     "name": "stdout",
     "output_type": "stream",
     "text": [
      "Collecting pyodbc\n",
      "  Downloading pyodbc-5.1.0-cp311-cp311-win_amd64.whl.metadata (2.8 kB)\n",
      "Downloading pyodbc-5.1.0-cp311-cp311-win_amd64.whl (68 kB)\n",
      "   ---------------------------------------- 0.0/68.7 kB ? eta -:--:--\n",
      "   ----- ---------------------------------- 10.2/68.7 kB ? eta -:--:--\n",
      "   ---------------------------------------- 68.7/68.7 kB 1.3 MB/s eta 0:00:00\n",
      "Installing collected packages: pyodbc\n",
      "Successfully installed pyodbc-5.1.0\n",
      "Note: you may need to restart the kernel to use updated packages.\n"
     ]
    }
   ],
   "source": [
    "\n",
    "pip install pyodbc"
   ]
  }
 ],
 "metadata": {
  "kernelspec": {
   "display_name": "Python 3",
   "language": "python",
   "name": "python3"
  },
  "language_info": {
   "codemirror_mode": {
    "name": "ipython",
    "version": 3
   },
   "file_extension": ".py",
   "mimetype": "text/x-python",
   "name": "python",
   "nbconvert_exporter": "python",
   "pygments_lexer": "ipython3",
   "version": "3.11.2"
  }
 },
 "nbformat": 4,
 "nbformat_minor": 2
}
